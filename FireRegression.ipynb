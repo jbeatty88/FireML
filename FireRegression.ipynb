{
 "cells": [
  {
   "cell_type": "markdown",
   "metadata": {
    "collapsed": true,
    "pycharm": {
     "name": "#%% md\n"
    }
   },
   "source": [
    "PROJECT: FIRE REGRESSION\n"
   ]
  },
  {
   "cell_type": "markdown",
   "source": [
    "Step 1: Load the data"
   ],
   "metadata": {
    "collapsed": false
   }
  },
  {
   "cell_type": "code",
   "execution_count": 2,
   "outputs": [
    {
     "name": "stdout",
     "text": [
      "         X      Y  month    day   FFMC    DMC     DC    ISI   temp     RH  \\\n",
      "0    False  False  False  False  False  False  False  False  False  False   \n",
      "1    False  False  False  False  False  False  False  False  False  False   \n",
      "2    False  False  False  False  False  False  False  False  False  False   \n",
      "3    False  False  False  False  False  False  False  False  False  False   \n",
      "4    False  False  False  False  False  False  False  False  False  False   \n",
      "..     ...    ...    ...    ...    ...    ...    ...    ...    ...    ...   \n",
      "512  False  False  False  False  False  False  False  False  False  False   \n",
      "513  False  False  False  False  False  False  False  False  False  False   \n",
      "514  False  False  False  False  False  False  False  False  False  False   \n",
      "515  False  False  False  False  False  False  False  False  False  False   \n",
      "516  False  False  False  False  False  False  False  False  False  False   \n",
      "\n",
      "      wind   rain   area  \n",
      "0    False  False  False  \n",
      "1    False  False  False  \n",
      "2    False  False  False  \n",
      "3    False  False  False  \n",
      "4    False  False  False  \n",
      "..     ...    ...    ...  \n",
      "512  False  False  False  \n",
      "513  False  False  False  \n",
      "514  False  False  False  \n",
      "515  False  False  False  \n",
      "516  False  False  False  \n",
      "\n",
      "[517 rows x 13 columns]\n"
     ],
     "output_type": "stream"
    }
   ],
   "source": [
    "import pandas as pd\n",
    "\n",
    "# path to file\n",
    "filename = 'data/forestfires.csv'\n",
    "\n",
    "# column labels for data\n",
    "names = ['X', 'Y', 'month', 'day', 'FFMC',\n",
    "         'DMC', 'DC', 'ISI', 'temp', 'RH',\n",
    "         'wind', 'rain', 'area']\n",
    "\n",
    "# store data in dataFrame\n",
    "df = pd.read_csv(filename, names=names)\n",
    "\n",
    "# check for missing values in the data\n",
    "print(pd.isnull(df))\n",
    "\n",
    "# our dataset has no missing values"
   ],
   "metadata": {
    "collapsed": false,
    "pycharm": {
     "name": "#%%\n",
     "is_executing": false
    }
   }
  },
  {
   "cell_type": "markdown",
   "source": [
    "Step 2: Analyze/prepare the data"
   ],
   "metadata": {
    "collapsed": false
   }
  },
  {
   "cell_type": "code",
   "execution_count": null,
   "outputs": [],
   "source": [
    "import pandas as pd\n",
    "\n",
    "# \n",
    "\n",
    "\n"
   ],
   "metadata": {
    "collapsed": false,
    "pycharm": {
     "name": "#%%\n"
    }
   }
  }
 ],
 "metadata": {
  "kernelspec": {
   "display_name": "Python 3",
   "language": "python",
   "name": "python3"
  },
  "language_info": {
   "codemirror_mode": {
    "name": "ipython",
    "version": 2
   },
   "file_extension": ".py",
   "mimetype": "text/x-python",
   "name": "python",
   "nbconvert_exporter": "python",
   "pygments_lexer": "ipython2",
   "version": "2.7.6"
  },
  "pycharm": {
   "stem_cell": {
    "cell_type": "raw",
    "source": [],
    "metadata": {
     "collapsed": false
    }
   }
  }
 },
 "nbformat": 4,
 "nbformat_minor": 0
}